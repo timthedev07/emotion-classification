{
  "nbformat": 4,
  "nbformat_minor": 0,
  "metadata": {
    "colab": {
      "name": "emotion-classification.ipynb",
      "provenance": [],
      "collapsed_sections": [],
      "authorship_tag": "ABX9TyPSj+u14j8PT5ojBNSLWsN6",
      "include_colab_link": true
    },
    "kernelspec": {
      "name": "python3",
      "display_name": "Python 3"
    },
    "language_info": {
      "name": "python"
    }
  },
  "cells": [
    {
      "cell_type": "markdown",
      "metadata": {
        "id": "view-in-github",
        "colab_type": "text"
      },
      "source": [
        "<a href=\"https://colab.research.google.com/github/timthedev07/emotion-classification/blob/dev/emotion_classification.ipynb\" target=\"_parent\"><img src=\"https://colab.research.google.com/assets/colab-badge.svg\" alt=\"Open In Colab\"/></a>"
      ]
    },
    {
      "cell_type": "markdown",
      "source": [
        "Update tensorflow."
      ],
      "metadata": {
        "id": "R59soWDE_ITM"
      }
    },
    {
      "cell_type": "code",
      "source": [
        "!pip uninstall tensorflow -y\n",
        "!pip install tensorflow==2.9.1"
      ],
      "metadata": {
        "id": "cDOL0NaH_LHU"
      },
      "execution_count": null,
      "outputs": []
    },
    {
      "cell_type": "markdown",
      "source": [
        "Import libraries."
      ],
      "metadata": {
        "id": "C2_tkjSrrVBl"
      }
    },
    {
      "cell_type": "code",
      "execution_count": null,
      "metadata": {
        "id": "gIvY-M7ArA4g"
      },
      "outputs": [],
      "source": [
        "import os\n",
        "import string\n",
        "import re\n",
        "import pandas as pd\n",
        "import tensorflow as tf\n",
        "from tensorflow.keras import Sequential\n",
        "from tensorflow.keras.layers import Dense, Embedding, GlobalAveragePooling1D, Dropout, LSTM, Conv1D\n",
        "from tensorflow.keras.layers import TextVectorization\n",
        "from tensorflow.keras.callbacks import EarlyStopping\n",
        "import nltk\n",
        "import numpy as np\n",
        "from nltk.corpus import stopwords\n",
        "from sklearn.model_selection import train_test_split\n",
        "from google.colab import drive\n",
        "drive.mount('/content/gdrive')\n",
        "\n",
        "nltk.download('stopwords')\n",
        "stopWords = set(stopwords.words(\"english\"))\n",
        "stopWords.remove(\"not\")"
      ]
    },
    {
      "cell_type": "markdown",
      "source": [
        "Load the dataset."
      ],
      "metadata": {
        "id": "PUWL6K0orTcZ"
      }
    },
    {
      "cell_type": "code",
      "source": [
        "!rm -rf ./sample_data\n",
        "!rm -rf ./data\n",
        "!mkdir data\n",
        "\n",
        "!cp \"/content/gdrive/My Drive/datasets/emotion-classification/train.txt.zip\" data\n",
        "!cp \"/content/gdrive/My Drive/datasets/emotion-classification/test.txt.zip\" data\n",
        "!cp \"/content/gdrive/My Drive/datasets/emotion-classification/validation.txt.zip\" data\n",
        "%cd data\n",
        "!unzip -ojq \"*.txt.zip\"\n",
        "!rm -rf *.txt.zip\n",
        "%cd .."
      ],
      "metadata": {
        "id": "rpY_-Tdirmy1"
      },
      "execution_count": null,
      "outputs": []
    },
    {
      "cell_type": "markdown",
      "source": [
        "Text cleaning."
      ],
      "metadata": {
        "id": "MHjTYgxXtxfa"
      }
    },
    {
      "cell_type": "code",
      "source": [
        "def customStandardization(text: tf.Tensor):\n",
        "    # to lower case\n",
        "    text = tf.strings.lower(text)\n",
        "    # expand contraction\n",
        "    pairs = [\n",
        "        (\"won't\", \"will not\"),\n",
        "        (\"can't\", \"can not\"),\n",
        "        (\"n't\", \" not\"),\n",
        "        (\"'re\", \" are\"),\n",
        "        (\"'s\", \" is\"),\n",
        "        (\"'d\", \" would\"),\n",
        "        (\"'ll\", \" will\"),\n",
        "        (\"'t\", \" not\"),\n",
        "        (\"'ve\", \" have\"),\n",
        "        (\"'m\", \" am\"),\n",
        "    ]\n",
        "    for contracted, replacement in pairs:\n",
        "        text = tf.strings.regex_replace(text, contracted, replacement)\n",
        "    \n",
        "    # clean special symbols\n",
        "    text = tf.strings.regex_replace(text, r\"\\d+(?:\\.\\d*)?(?:[eE][+-]?\\d+)?\", \" \")\n",
        "    text = tf.strings.regex_replace(text, r\"[^A-Za-z0-9]+\", \" \")\n",
        "\n",
        "    # remove stopwords\n",
        "    for i in stopWords:\n",
        "        text = tf.strings.regex_replace(text, f\"[^A-Za-z0-9_]+{i}[^A-Za-z0-9_]+\", \" \")\n",
        "\n",
        "    return text"
      ],
      "metadata": {
        "id": "pFOqYkr9tytl"
      },
      "execution_count": 3,
      "outputs": []
    },
    {
      "cell_type": "markdown",
      "source": [
        "Load the dataset"
      ],
      "metadata": {
        "id": "DcEwWfqQuYpB"
      }
    },
    {
      "cell_type": "code",
      "source": [
        "DATA_DIR = \"data\"\n",
        "COLUMNS = [\"text\", \"label\"]\n",
        "\n",
        "def loadDataset(dataset = \"train\"):\n",
        "    \"\"\"\n",
        "    `dataset` => \"train\" | \"test\" | \"validation\"\n",
        "    \"\"\"\n",
        "    fileName = os.path.join(DATA_DIR, dataset + \".txt\")\n",
        "\n",
        "    with open(fileName, \"r\", encoding = \"utf-8\") as f:\n",
        "        lines = f.readlines()\n",
        "\n",
        "        rows = []\n",
        "        for line in lines:\n",
        "            line = line.strip(\"\\n\")\n",
        "            [text, label] = line.split(\";\")\n",
        "\n",
        "            rows.append({\n",
        "                \"text\": text,\n",
        "                \"label\": label,\n",
        "            })\n",
        "        \n",
        "        return pd.DataFrame(rows, columns = COLUMNS)\n",
        "\n",
        "train = loadDataset()\n",
        "test = loadDataset(\"test\")\n",
        "validation = loadDataset(\"validation\")\n",
        "\n",
        "# collect labels\n",
        "LABELS = np.sort(train[\"label\"].unique())\n",
        "\n",
        "# x datasets\n",
        "trainX, validationX, testX = train[\"text\"], validation[\"text\"], test[\"text\"]\n",
        "\n",
        "# y datasets, one-hot encoded\n",
        "trainY = pd.get_dummies(train[\"label\"])\n",
        "validationY = pd.get_dummies(validation[\"label\"])\n",
        "testY = pd.get_dummies(test[\"label\"])\n"
      ],
      "metadata": {
        "id": "cDSDwrZAuX74"
      },
      "execution_count": 4,
      "outputs": []
    },
    {
      "cell_type": "markdown",
      "source": [
        "RNN with LSTM."
      ],
      "metadata": {
        "id": "IYGn5xm3y6zk"
      }
    },
    {
      "cell_type": "code",
      "source": [
        "VOCAB_SIZE = 20000\n",
        "SEQUENCE_LENGTH = 64\n",
        "EMBEDDING_DIM = 32\n",
        "\n",
        "vectorizeLayer = TextVectorization(\n",
        "    max_tokens = VOCAB_SIZE,\n",
        "    standardize = customStandardization,\n",
        "    output_mode = \"int\",\n",
        "    output_sequence_length = SEQUENCE_LENGTH\n",
        ")\n",
        "\n",
        "vectorizeLayer.adapt(np.concatenate([trainX, validationX, testX]))"
      ],
      "metadata": {
        "id": "czZzxbrfzJMN"
      },
      "execution_count": 5,
      "outputs": []
    },
    {
      "cell_type": "code",
      "source": [
        "embeddingLayer = Embedding(VOCAB_SIZE, EMBEDDING_DIM, name=\"embedding_layer\")\n",
        "outputLayer = Dense(len(LABELS), activation = \"softmax\")\n",
        "\n",
        "cnn = Sequential([\n",
        "    vectorizeLayer,\n",
        "    embeddingLayer,\n",
        "\n",
        "    Conv1D(filters=32, kernel_size=4, activation='relu'),\n",
        "    GlobalAveragePooling1D(),\n",
        "    Dense(16),\n",
        "    Dropout(0.4),\n",
        "    Dense(16),\n",
        "    Dropout(0.4),\n",
        "\n",
        "    outputLayer\n",
        "], name=\"CNN_emotion_classification\")\n",
        "cnn.compile(\n",
        "    optimizer='adam',\n",
        "    loss=tf.keras.losses.BinaryCrossentropy(),\n",
        "    metrics=['accuracy']\n",
        ")\n",
        "\n",
        "cnn.summary()\n"
      ],
      "metadata": {
        "colab": {
          "base_uri": "https://localhost:8080/"
        },
        "id": "9Elfal7az6EE",
        "outputId": "843c2abb-ed5d-4b31-da0d-abf50870b87f"
      },
      "execution_count": 6,
      "outputs": [
        {
          "output_type": "stream",
          "name": "stdout",
          "text": [
            "Model: \"CNN_emotion_classification\"\n",
            "_________________________________________________________________\n",
            " Layer (type)                Output Shape              Param #   \n",
            "=================================================================\n",
            " text_vectorization (TextVec  (None, 64)               0         \n",
            " torization)                                                     \n",
            "                                                                 \n",
            " embedding_layer (Embedding)  (None, 64, 32)           640000    \n",
            "                                                                 \n",
            " conv1d (Conv1D)             (None, 61, 32)            4128      \n",
            "                                                                 \n",
            " global_average_pooling1d (G  (None, 32)               0         \n",
            " lobalAveragePooling1D)                                          \n",
            "                                                                 \n",
            " dense_1 (Dense)             (None, 16)                528       \n",
            "                                                                 \n",
            " dropout (Dropout)           (None, 16)                0         \n",
            "                                                                 \n",
            " dense_2 (Dense)             (None, 16)                272       \n",
            "                                                                 \n",
            " dropout_1 (Dropout)         (None, 16)                0         \n",
            "                                                                 \n",
            " dense (Dense)               (None, 6)                 102       \n",
            "                                                                 \n",
            "=================================================================\n",
            "Total params: 645,030\n",
            "Trainable params: 645,030\n",
            "Non-trainable params: 0\n",
            "_________________________________________________________________\n"
          ]
        }
      ]
    },
    {
      "cell_type": "markdown",
      "source": [
        "Now let's train the model."
      ],
      "metadata": {
        "id": "cUGWJRsI7B7_"
      }
    },
    {
      "cell_type": "code",
      "source": [
        "EPOCHS = 20\n",
        "\n",
        "callback = EarlyStopping(patience = 3)\n",
        "\n",
        "cnn.fit(\n",
        "    trainX,\n",
        "    trainY,\n",
        "    validation_data = (validationX, validationY),\n",
        "    batch_size = 32,\n",
        "    callbacks = [callback],\n",
        "    epochs = EPOCHS,\n",
        ")"
      ],
      "metadata": {
        "colab": {
          "base_uri": "https://localhost:8080/"
        },
        "id": "JTZncGT23hmy",
        "outputId": "ca01cf8f-abfe-445a-e2b2-07b0c151c2b2"
      },
      "execution_count": 7,
      "outputs": [
        {
          "output_type": "stream",
          "name": "stdout",
          "text": [
            "Epoch 1/20\n",
            "500/500 [==============================] - 10s 18ms/step - loss: 0.4407 - accuracy: 0.3108 - val_loss: 0.3850 - val_accuracy: 0.3535\n",
            "Epoch 2/20\n",
            "500/500 [==============================] - 8s 17ms/step - loss: 0.3640 - accuracy: 0.3911 - val_loss: 0.3307 - val_accuracy: 0.4785\n",
            "Epoch 3/20\n",
            "500/500 [==============================] - 9s 17ms/step - loss: 0.3315 - accuracy: 0.4649 - val_loss: 0.3121 - val_accuracy: 0.5105\n",
            "Epoch 4/20\n",
            "500/500 [==============================] - 8s 17ms/step - loss: 0.2945 - accuracy: 0.6062 - val_loss: 0.2820 - val_accuracy: 0.6575\n",
            "Epoch 5/20\n",
            "500/500 [==============================] - 9s 18ms/step - loss: 0.2370 - accuracy: 0.7071 - val_loss: 0.2122 - val_accuracy: 0.7245\n",
            "Epoch 6/20\n",
            "500/500 [==============================] - 10s 20ms/step - loss: 0.1837 - accuracy: 0.7906 - val_loss: 0.1898 - val_accuracy: 0.8100\n",
            "Epoch 7/20\n",
            "500/500 [==============================] - 9s 18ms/step - loss: 0.1575 - accuracy: 0.8430 - val_loss: 0.1816 - val_accuracy: 0.8330\n",
            "Epoch 8/20\n",
            "500/500 [==============================] - 9s 17ms/step - loss: 0.1383 - accuracy: 0.8806 - val_loss: 0.1736 - val_accuracy: 0.8365\n",
            "Epoch 9/20\n",
            "500/500 [==============================] - 8s 17ms/step - loss: 0.1216 - accuracy: 0.9046 - val_loss: 0.1750 - val_accuracy: 0.8420\n",
            "Epoch 10/20\n",
            "500/500 [==============================] - 9s 17ms/step - loss: 0.1116 - accuracy: 0.9142 - val_loss: 0.1729 - val_accuracy: 0.8430\n",
            "Epoch 11/20\n",
            "500/500 [==============================] - 10s 20ms/step - loss: 0.1015 - accuracy: 0.9227 - val_loss: 0.1820 - val_accuracy: 0.8395\n",
            "Epoch 12/20\n",
            "500/500 [==============================] - 9s 17ms/step - loss: 0.0952 - accuracy: 0.9279 - val_loss: 0.1890 - val_accuracy: 0.8395\n",
            "Epoch 13/20\n",
            "500/500 [==============================] - 9s 17ms/step - loss: 0.0891 - accuracy: 0.9333 - val_loss: 0.2105 - val_accuracy: 0.8345\n"
          ]
        },
        {
          "output_type": "execute_result",
          "data": {
            "text/plain": [
              "<keras.callbacks.History at 0x7f533e179e90>"
            ]
          },
          "metadata": {},
          "execution_count": 7
        }
      ]
    },
    {
      "cell_type": "code",
      "source": [
        "print(\"CNN's performance on test data:\")\n",
        "cnn.evaluate(testX, testY, batch_size = 64)"
      ],
      "metadata": {
        "colab": {
          "base_uri": "https://localhost:8080/"
        },
        "id": "QWEjT3Zt5z2-",
        "outputId": "f554465e-a8ba-4d4b-eb1b-a57301b8ac09"
      },
      "execution_count": 8,
      "outputs": [
        {
          "output_type": "stream",
          "name": "stdout",
          "text": [
            "CNN's performance on test data:\n",
            "32/32 [==============================] - 0s 13ms/step - loss: 0.1880 - accuracy: 0.8560\n"
          ]
        },
        {
          "output_type": "execute_result",
          "data": {
            "text/plain": [
              "[0.1879863739013672, 0.8560000061988831]"
            ]
          },
          "metadata": {},
          "execution_count": 8
        }
      ]
    },
    {
      "cell_type": "markdown",
      "source": [
        "Save the model."
      ],
      "metadata": {
        "id": "kFtV-Sxt-8s4"
      }
    },
    {
      "cell_type": "code",
      "source": [
        "cnn.save(\"model\")\n",
        "# compress model\n",
        "!zip -r model.zip model\n",
        "\n",
        "# download model\n",
        "from google.colab import files\n",
        "files.download(\"model.zip\")"
      ],
      "metadata": {
        "colab": {
          "base_uri": "https://localhost:8080/",
          "height": 176
        },
        "id": "t3xbMq4g-8B8",
        "outputId": "863af600-cfd2-4797-d8b6-8623e4d2f2fc"
      },
      "execution_count": 15,
      "outputs": [
        {
          "output_type": "stream",
          "name": "stderr",
          "text": [
            "WARNING:absl:Found untraced functions such as _jit_compiled_convolution_op while saving (showing 1 of 1). These functions will not be directly callable after loading.\n"
          ]
        },
        {
          "output_type": "stream",
          "name": "stdout",
          "text": [
            "  adding: model/ (stored 0%)\n",
            "  adding: model/saved_model.pb (deflated 81%)\n",
            "  adding: model/assets/ (stored 0%)\n",
            "  adding: model/variables/ (stored 0%)\n",
            "  adding: model/variables/variables.index (deflated 64%)\n",
            "  adding: model/variables/variables.data-00000-of-00001 (deflated 20%)\n",
            "  adding: model/keras_metadata.pb (deflated 89%)\n"
          ]
        },
        {
          "output_type": "display_data",
          "data": {
            "text/plain": [
              "<IPython.core.display.Javascript object>"
            ],
            "application/javascript": [
              "\n",
              "    async function download(id, filename, size) {\n",
              "      if (!google.colab.kernel.accessAllowed) {\n",
              "        return;\n",
              "      }\n",
              "      const div = document.createElement('div');\n",
              "      const label = document.createElement('label');\n",
              "      label.textContent = `Downloading \"${filename}\": `;\n",
              "      div.appendChild(label);\n",
              "      const progress = document.createElement('progress');\n",
              "      progress.max = size;\n",
              "      div.appendChild(progress);\n",
              "      document.body.appendChild(div);\n",
              "\n",
              "      const buffers = [];\n",
              "      let downloaded = 0;\n",
              "\n",
              "      const channel = await google.colab.kernel.comms.open(id);\n",
              "      // Send a message to notify the kernel that we're ready.\n",
              "      channel.send({})\n",
              "\n",
              "      for await (const message of channel.messages) {\n",
              "        // Send a message to notify the kernel that we're ready.\n",
              "        channel.send({})\n",
              "        if (message.buffers) {\n",
              "          for (const buffer of message.buffers) {\n",
              "            buffers.push(buffer);\n",
              "            downloaded += buffer.byteLength;\n",
              "            progress.value = downloaded;\n",
              "          }\n",
              "        }\n",
              "      }\n",
              "      const blob = new Blob(buffers, {type: 'application/binary'});\n",
              "      const a = document.createElement('a');\n",
              "      a.href = window.URL.createObjectURL(blob);\n",
              "      a.download = filename;\n",
              "      div.appendChild(a);\n",
              "      a.click();\n",
              "      div.remove();\n",
              "    }\n",
              "  "
            ]
          },
          "metadata": {}
        },
        {
          "output_type": "display_data",
          "data": {
            "text/plain": [
              "<IPython.core.display.Javascript object>"
            ],
            "application/javascript": [
              "download(\"download_b51dea75-2e1e-4a16-976a-b1c962bced76\", \"model.zip\", 6340071)"
            ]
          },
          "metadata": {}
        }
      ]
    },
    {
      "cell_type": "markdown",
      "source": [
        "Inference."
      ],
      "metadata": {
        "id": "jCLXi_qBBmuf"
      }
    },
    {
      "cell_type": "code",
      "source": [
        "from matplotlib import pyplot as plt\n",
        "\n",
        "def plotDist(probabilityDistribution):\n",
        "    plt.bar(LABELS, probabilityDistribution)    "
      ],
      "metadata": {
        "id": "xyDPt0yNBn25"
      },
      "execution_count": 13,
      "outputs": []
    },
    {
      "cell_type": "code",
      "source": [
        "custom_objects = {\"customStandardization\": customStandardization}\n",
        "with tf.keras.utils.custom_object_scope(custom_objects):\n",
        "    loaded = tf.keras.models.load_model(\"model\")\n",
        "    [res] = loaded.predict([\"I'm fucked up, shit.\"])\n",
        "    plotDist(res)"
      ],
      "metadata": {
        "colab": {
          "base_uri": "https://localhost:8080/",
          "height": 282
        },
        "id": "5W3QuWK6BK3C",
        "outputId": "0f360688-b3b9-4e97-820f-a33d00f833ea"
      },
      "execution_count": 14,
      "outputs": [
        {
          "output_type": "stream",
          "name": "stdout",
          "text": [
            "1/1 [==============================] - 0s 307ms/step\n"
          ]
        },
        {
          "output_type": "display_data",
          "data": {
            "text/plain": [
              "<Figure size 432x288 with 1 Axes>"
            ],
            "image/png": "[encoded data removed]"
          },
          "metadata": {
            "needs_background": "light"
          }
        }
      ]
    }
  ]
}